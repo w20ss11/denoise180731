{
 "cells": [
  {
   "cell_type": "code",
   "execution_count": 1,
   "metadata": {},
   "outputs": [
    {
     "name": "stdout",
     "output_type": "stream",
     "text": [
      "[[2. 2.]\n",
      " [2. 2.]]\n",
      "[[0. 0.]\n",
      " [0. 0.]]\n"
     ]
    }
   ],
   "source": [
    "import numpy as np\n",
    "import pywt\n",
    "\n",
    "\"\"\"单级(阶)离散小波变换\"\"\"\n",
    "\n",
    "data = np.ones((4,4), dtype=np.float64)\n",
    "coeffs = pywt.dwt2(data, 'haar')\n",
    "cA, (cH, cV, cD) = coeffs\n",
    "print(cA)\n",
    "print(cV)"
   ]
  },
  {
   "cell_type": "code",
   "execution_count": 5,
   "metadata": {},
   "outputs": [
    {
     "name": "stdout",
     "output_type": "stream",
     "text": [
      "[-0.70710678 -0.70710678 -0.70710678 -0.70710678]\n",
      "[-2. -2.]\n",
      "[ 5. 13.]\n"
     ]
    }
   ],
   "source": [
    "from pywt import wavedec\n",
    "import numpy as np\n",
    "\n",
    "\"\"\"多级(阶)离散小波变换\"\"\"\n",
    "\n",
    "coeffs = wavedec([1,2,3,4,5,6,7,8], 'db1', level=2)\n",
    "cA2, cD2, cD1 = coeffs\n",
    "print(cD1)\n",
    "print(cD2)\n",
    "print(cA2)"
   ]
  },
  {
   "cell_type": "code",
   "execution_count": null,
   "metadata": {},
   "outputs": [],
   "source": []
  }
 ],
 "metadata": {
  "kernelspec": {
   "display_name": "Python 3",
   "language": "python",
   "name": "python3"
  },
  "language_info": {
   "codemirror_mode": {
    "name": "ipython",
    "version": 3
   },
   "file_extension": ".py",
   "mimetype": "text/x-python",
   "name": "python",
   "nbconvert_exporter": "python",
   "pygments_lexer": "ipython3",
   "version": "3.6.5"
  }
 },
 "nbformat": 4,
 "nbformat_minor": 2
}
