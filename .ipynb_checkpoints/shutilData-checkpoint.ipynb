{
 "cells": [
  {
   "cell_type": "code",
   "execution_count": null,
   "metadata": {},
   "outputs": [],
   "source": [
    "import os\n",
    "import shutil\n",
    "\n",
    "#使用os.unlink()和os.remove()来删除文件\n",
    "#!/user/local/bin/python2.7\n",
    "# -*- coding:utf-8 -*-\n",
    "import os\n",
    "\n",
    "files = os.listdir(\"Z:/HDD/dataset_hand_classes/c3d_vgg_final/train_atm_wu/push_left/新建文件夹/\")\n",
    "# print(files)\n",
    "\n",
    "l1 = files\n",
    "print(l1[0][:-4])\n",
    "\n",
    "# jpgDir = \"Z:/HDD/dataset_hand_classes/c3d_vgg_final/train_atm_wu/left/\"\n",
    "rdmDir = \"Z:/HDD/dataset_hand_classes/c3d_vgg_final/train_rdm1/push_left/\"\n",
    "\n",
    "for i in range(len(l1)):\n",
    "    print(l1[i])\n",
    "    #os.remove(jpgDir+l1[i])\n",
    "    shutil.rmtree(rdmDir+l1[i][:-4])"
   ]
  }
 ],
 "metadata": {
  "kernelspec": {
   "display_name": "Python 3",
   "language": "python",
   "name": "python3"
  },
  "language_info": {
   "codemirror_mode": {
    "name": "ipython",
    "version": 3
   },
   "file_extension": ".py",
   "mimetype": "text/x-python",
   "name": "python",
   "nbconvert_exporter": "python",
   "pygments_lexer": "ipython3",
   "version": "3.6.5"
  }
 },
 "nbformat": 4,
 "nbformat_minor": 2
}
