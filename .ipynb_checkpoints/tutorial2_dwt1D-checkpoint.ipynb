{
 "cells": [
  {
   "cell_type": "code",
   "execution_count": 3,
   "metadata": {},
   "outputs": [
    {
     "name": "stdout",
     "output_type": "stream",
     "text": [
      "[2.12132034 4.94974747 7.77817459]\n",
      "[-0.70710678 -0.70710678 -0.70710678]\n"
     ]
    }
   ],
   "source": [
    "%matplotlib inline\n",
    "import pywt\n",
    "\n",
    "\"\"\"单级(阶)离散小波变换\"\"\"\n",
    "\n",
    "(cA, cD) = pywt.dwt([1, 2, 3, 4, 5, 6], 'db1')\n",
    "print(cA) #近似和细节系数\n",
    "# array([ 2.12132034,  4.94974747,  7.77817459])\n",
    "print(cD)\n",
    "# array([-0.70710678, -0.70710678, -0.70710678])"
   ]
  },
  {
   "cell_type": "code",
   "execution_count": 14,
   "metadata": {},
   "outputs": [],
   "source": [
    "import cv2"
   ]
  },
  {
   "cell_type": "code",
   "execution_count": 2,
   "metadata": {},
   "outputs": [
    {
     "name": "stdout",
     "output_type": "stream",
     "text": [
      "[-0.70710678 -0.70710678 -0.70710678 -0.70710678]\n",
      "[-2. -2.]\n",
      "[ 5. 13.]\n"
     ]
    }
   ],
   "source": [
    "from pywt import wavedec\n",
    "\n",
    "\"\"\"多级(阶)一维离散小波变换\"\"\"\n",
    "\n",
    "coeffs = wavedec([1,2,3,4,5,6,7,8], 'db1', level=2)\n",
    "cA2, cD2, cD1 = coeffs\n",
    "print(cD1)\n",
    "# array([-0.70710678, -0.70710678, -0.70710678, -0.70710678])\n",
    "print(cD2)\n",
    "# array([-2., -2.])\n",
    "print(cA2)\n",
    "# array([  5.,  13.])"
   ]
  },
  {
   "cell_type": "code",
   "execution_count": 15,
   "metadata": {},
   "outputs": [
    {
     "name": "stdout",
     "output_type": "stream",
     "text": [
      "[8.83883476]\n",
      "[-0.35355339]\n",
      "[ 4.  -3.5]\n",
      "[-2.82842712  0.         -4.94974747 -1.41421356]\n"
     ]
    }
   ],
   "source": [
    "import pywt\n",
    "\n",
    "\"\"\"多级(阶)一维离散小波变换\"\"\"\n",
    "\n",
    "x = [3, 7, 1, 1, -2, 5, 4, 6]\n",
    "db1 = pywt.Wavelet('db1')\n",
    "cA3, cD3, cD2, cD1 = pywt.wavedec(x, db1)\n",
    "print(cA3)\n",
    "print(cD3)\n",
    "print(cD2)\n",
    "print(cD1)"
   ]
  },
  {
   "cell_type": "code",
   "execution_count": null,
   "metadata": {},
   "outputs": [],
   "source": []
  }
 ],
 "metadata": {
  "kernelspec": {
   "display_name": "Python 3",
   "language": "python",
   "name": "python3"
  },
  "language_info": {
   "codemirror_mode": {
    "name": "ipython",
    "version": 3
   },
   "file_extension": ".py",
   "mimetype": "text/x-python",
   "name": "python",
   "nbconvert_exporter": "python",
   "pygments_lexer": "ipython3",
   "version": "3.6.5"
  }
 },
 "nbformat": 4,
 "nbformat_minor": 2
}
